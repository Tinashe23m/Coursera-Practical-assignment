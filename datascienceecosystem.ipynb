{
  "nbformat": 4,
  "nbformat_minor": 0,
  "metadata": {
    "colab": {
      "provenance": []
    },
    "kernelspec": {
      "name": "python3",
      "display_name": "Python 3"
    },
    "language_info": {
      "name": "python"
    }
  },
  "cells": [
    {
      "cell_type": "markdown",
      "source": [
        "#Data Science Tools and Ecosystem"
      ],
      "metadata": {
        "id": "NhI-cAu55m73"
      }
    },
    {
      "cell_type": "markdown",
      "source": [
        "##In this notebook, Data Science Tools and Ecosystem are summarized"
      ],
      "metadata": {
        "id": "t0BoqUyp7__v"
      }
    },
    {
      "cell_type": "markdown",
      "source": [
        "Some of the popular languages that Data Scientists use are:\n",
        "\n",
        "1.   Python\n",
        "2.   R\n",
        "3.   Matlab\n",
        "4.   Julia\n",
        "5.   C++\n",
        "\n"
      ],
      "metadata": {
        "id": "b5MsRpIk8uba"
      }
    },
    {
      "cell_type": "markdown",
      "source": [
        "Some of the commonly used libraries used by Data Scientists include:\n",
        "\n",
        "\n",
        "\n",
        "1.   Pandas\n",
        "2.   NumPy\n",
        "3.   Seaborn\n",
        "4.   Matplotlib\n",
        "5.   SciPy\n",
        "6.   Pytorch\n",
        "7.   Scikit learn\n",
        "\n"
      ],
      "metadata": {
        "id": "aN5V1CFF9fr8"
      }
    },
    {
      "cell_type": "markdown",
      "source": [
        "Data Science Tools\n",
        "\n",
        "|Data Science Tools|\n",
        "|--- |\n",
        "| Apache Spark|\n",
        "| --- |\n",
        "| Tableau |\n",
        "| --- |\n",
        "| Power BI|\n",
        "| --- |\n",
        "| SQL |\n",
        "| --- |\n",
        "|EXCEL |"
      ],
      "metadata": {
        "id": "_8uz2nKJ-13g"
      }
    },
    {
      "cell_type": "markdown",
      "source": [
        "### Below are a few examples of evaluating arithmetic expressions in Python\n",
        "\n",
        "1.   2+2 = 4\n",
        "2.   5-2 = 3\n",
        "3.   4/2 = 2\n",
        "4.   4 * 4 = 16\n",
        "5.   4**2 = 16\n",
        "6.   4%2 = 0\n",
        "\n",
        "\n"
      ],
      "metadata": {
        "id": "IpIXeNk6Bkhg"
      }
    },
    {
      "cell_type": "code",
      "execution_count": null,
      "metadata": {
        "colab": {
          "base_uri": "https://localhost:8080/"
        },
        "id": "CgRA3ogR5RD0",
        "outputId": "69e3ff3b-bea9-4b34-c422-b082126f9ba5"
      },
      "outputs": [
        {
          "output_type": "execute_result",
          "data": {
            "text/plain": [
              "17"
            ]
          },
          "metadata": {},
          "execution_count": 4
        }
      ],
      "source": [
        "# This a simple arithmetic expression to mutiply then add integers\n",
        "(3*4)+5"
      ]
    },
    {
      "cell_type": "code",
      "source": [
        "# This will convert 200 minutes to hours by diving by 60\n",
        "\n",
        "200/60"
      ],
      "metadata": {
        "colab": {
          "base_uri": "https://localhost:8080/"
        },
        "id": "VTqGhDhOCpSQ",
        "outputId": "68fd74d1-3595-4476-838a-005c84995bc1"
      },
      "execution_count": null,
      "outputs": [
        {
          "output_type": "execute_result",
          "data": {
            "text/plain": [
              "3.3333333333333335"
            ]
          },
          "metadata": {},
          "execution_count": 6
        }
      ]
    },
    {
      "cell_type": "markdown",
      "source": [
        "**Objectives**\n",
        "\n",
        "\n",
        "*   List commonly used libraries for Data Science\n",
        "*   Create a table for Data Science tools\n",
        "*   Examples of evaluating arithmetic expressions in Python\n",
        "*   Converting minutes to hours\n",
        "*   List popular languages for Data Science\n",
        "*   Evaluating an arithmetic expression of multiplication and addition"
      ],
      "metadata": {
        "id": "cl0FDZYzE0G8"
      }
    },
    {
      "cell_type": "markdown",
      "source": [
        "## Tinashe Magada Mwarozva"
      ],
      "metadata": {
        "id": "o8PnejseG6Mx"
      }
    },
    {
      "cell_type": "code",
      "source": [],
      "metadata": {
        "id": "WEzv0oRiHCKl"
      },
      "execution_count": null,
      "outputs": []
    }
  ]
}